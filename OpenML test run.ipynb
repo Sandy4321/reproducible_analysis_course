{
 "cells": [
  {
   "cell_type": "markdown",
   "metadata": {},
   "source": [
    "## OpenML in research, iris\n",
    "\n",
    "It covers downloading datasets, tasks, how to use scikit-learn to build classifiers, and upload the results to the server.\n"
   ]
  },
  {
   "cell_type": "markdown",
   "metadata": {},
   "source": [
    "Initialization and login. This assumes you have a .openml dir in your homedir with a subdir for caches and a file with your API key. You find your API key in your account settings on openml.org."
   ]
  },
  {
   "cell_type": "code",
   "execution_count": 1,
   "metadata": {
    "collapsed": false
   },
   "outputs": [
    {
     "name": "stdout",
     "output_type": "stream",
     "text": [
      "backports.ssl-match-hostname==3.4.0.2\r\n",
      "bokeh==0.10.0\r\n",
      "climate==0.4.5\r\n",
      "decorator==4.0.4\r\n",
      "downhill==0.3.1\r\n",
      "Flask==0.10.1\r\n",
      "funcsigs==0.4\r\n",
      "ipykernel==4.1.1\r\n",
      "ipython==4.0.0\r\n",
      "ipython-genutils==0.1.0\r\n",
      "itsdangerous==0.24\r\n",
      "Jinja2==2.8\r\n",
      "jsonschema==2.4.0\r\n",
      "jupyter-client==4.1.1\r\n",
      "jupyter-core==4.0.6\r\n",
      "liac-arff==2.1.1.dev0\r\n",
      "MarkupSafe==0.23\r\n",
      "matplotlib==1.4.3\r\n",
      "mistune==0.7.1\r\n",
      "mock==1.3.0\r\n",
      "mpld3==0.2\r\n",
      "nbconvert==4.0.0\r\n",
      "nbformat==4.0.1\r\n",
      "neurolab==0.3.5\r\n",
      "nose==1.3.7\r\n",
      "notebook==4.0.6\r\n",
      "numexpr==2.4.4\r\n",
      "numpy==1.10.1\r\n",
      "openml==0.2.1\r\n",
      "openpyxl==1.8.6\r\n",
      "pandas==0.17.0\r\n",
      "path.py==0.0.0\r\n",
      "pbr==1.8.1\r\n",
      "pexpect==3.3\r\n",
      "pickleshare==0.5\r\n",
      "plac==0.9.1\r\n",
      "plotly==1.8.6\r\n",
      "ptyprocess==0.5\r\n",
      "PyBrain==0.3\r\n",
      "Pygments==2.0.2\r\n",
      "pyparsing==2.0.3\r\n",
      "python-dateutil==2.4.2\r\n",
      "pytz==2015.7\r\n",
      "PyYAML==3.11\r\n",
      "pyzmq==14.7.0\r\n",
      "rep==0.6.5\r\n",
      "requests==2.8.1\r\n",
      "root-numpy==4.3.0.dev0\r\n",
      "rootpy==0.8.0.dev0\r\n",
      "runipy==0.1.3\r\n",
      "scikit-learn==0.16.1\r\n",
      "scipy==0.16.0\r\n",
      "simplegeneric==0.8.1\r\n",
      "six==1.10.0\r\n",
      "tables==3.2.2\r\n",
      "terminado==0.5\r\n",
      "theanets==0.6.2\r\n",
      "Theano==0.7.0\r\n",
      "tornado==4.2.1\r\n",
      "traitlets==4.0.0\r\n",
      "Werkzeug==0.10.4\r\n",
      "wheel==0.26.0\r\n",
      "xgboost==0.4\r\n",
      "xmltodict==0.10.1\r\n",
      "\u001b[33mYou are using pip version 7.1.2, however version 8.1.0 is available.\r\n",
      "You should consider upgrading via the 'pip install --upgrade pip' command.\u001b[0m\r\n"
     ]
    }
   ],
   "source": [
    "!pip freeze"
   ]
  },
  {
   "cell_type": "code",
   "execution_count": 1,
   "metadata": {
    "collapsed": false
   },
   "outputs": [
    {
     "name": "stdout",
     "output_type": "stream",
     "text": [
      "/root/miniconda/envs/rep_py2/bin/pip\n"
     ]
    },
    {
     "name": "stderr",
     "output_type": "stream",
     "text": [
      "Python 2.7.10 :: Continuum Analytics, Inc.\n"
     ]
    }
   ],
   "source": [
    "%%bash\n",
    "\n",
    "python --version\n",
    "which pip"
   ]
  },
  {
   "cell_type": "code",
   "execution_count": 3,
   "metadata": {
    "collapsed": false
   },
   "outputs": [],
   "source": [
    "from sklearn import preprocessing, ensemble\n",
    "from openml.apiconnector import APIConnector\n",
    "import numpy as np\n",
    "import pandas as pd\n",
    "import os\n",
    "import openml\n",
    "import xmltodict\n",
    "from IPython.core.display import display, HTML\n",
    "\n",
    "\n",
    "openml_dir = os.path.join(os.path.expanduser(\"~\"), \".openml\")\n",
    "if not os.path.exists(openml_dir): os.makedirs(openml_dir)\n",
    "cache_dir = os.path.join(openml_dir, \"cache\")\n",
    "key =  ## Put your key as a string here"
   ]
  },
  {
   "cell_type": "code",
   "execution_count": 4,
   "metadata": {
    "cellView": null,
    "collapsed": false,
    "executionInfo": {
     "content": {
      "execution_count": 1,
      "payload": [],
      "status": "ok",
      "user_expressions": {},
      "user_variables": {}
     },
     "timestamp": 1455756578370,
     "user": {
      "color": "#1FA15D",
      "displayName": "Joaquin Vanschoren",
      "isAnonymous": false,
      "isMe": true,
      "permissionId": "09574386662628411592",
      "photoUrl": "//lh6.googleusercontent.com/-9g2BD5NUkx4/AAAAAAAAAAI/AAAAAAAACC4/sACE-8zBzX4/s50-c-k-no/photo.jpg",
      "sessionId": "705fdb90ea984ffb",
      "userId": "109221074076178034989"
     },
     "user_tz": -60
    }
   },
   "outputs": [],
   "source": [
    "con = APIConnector(cache_directory=cache_dir, apikey=key)"
   ]
  },
  {
   "cell_type": "markdown",
   "metadata": {},
   "source": [
    "List all datasets on OpenML"
   ]
  },
  {
   "cell_type": "code",
   "execution_count": 5,
   "metadata": {
    "cellView": null,
    "collapsed": false,
    "executionInfo": {
     "content": {
      "execution_count": 43,
      "payload": [],
      "status": "ok",
      "user_expressions": {},
      "user_variables": {}
     },
     "timestamp": 1455749142183,
     "user": {
      "color": "#1FA15D",
      "displayName": "Joaquin Vanschoren",
      "isAnonymous": false,
      "isMe": true,
      "permissionId": "09574386662628411592",
      "photoUrl": "//lh6.googleusercontent.com/-9g2BD5NUkx4/AAAAAAAAAAI/AAAAAAAACC4/sACE-8zBzX4/s50-c-k-no/photo.jpg",
      "sessionId": "4c10e6f89dcd9d83",
      "userId": "109221074076178034989"
     },
     "user_tz": -60
    }
   },
   "outputs": [
    {
     "data": {
      "text/html": [
       "<div>\n",
       "<table border=\"1\" class=\"dataframe\">\n",
       "  <thead>\n",
       "    <tr style=\"text-align: right;\">\n",
       "      <th></th>\n",
       "      <th>MajorityClassSize</th>\n",
       "      <th>MaxNominalAttDistinctValues</th>\n",
       "      <th>MinorityClassSize</th>\n",
       "      <th>NumBinaryAtts</th>\n",
       "      <th>NumberOfClasses</th>\n",
       "      <th>NumberOfFeatures</th>\n",
       "      <th>NumberOfInstances</th>\n",
       "      <th>NumberOfInstancesWithMissingValues</th>\n",
       "      <th>NumberOfMissingValues</th>\n",
       "      <th>NumberOfNumericFeatures</th>\n",
       "      <th>NumberOfSymbolicFeatures</th>\n",
       "      <th>did</th>\n",
       "      <th>format</th>\n",
       "      <th>name</th>\n",
       "      <th>status</th>\n",
       "    </tr>\n",
       "  </thead>\n",
       "  <tbody>\n",
       "    <tr>\n",
       "      <th>0</th>\n",
       "      <td>684</td>\n",
       "      <td>10</td>\n",
       "      <td>0</td>\n",
       "      <td>14</td>\n",
       "      <td>6</td>\n",
       "      <td>39</td>\n",
       "      <td>898</td>\n",
       "      <td>0</td>\n",
       "      <td>0</td>\n",
       "      <td>6</td>\n",
       "      <td>32</td>\n",
       "      <td>1</td>\n",
       "      <td>ARFF</td>\n",
       "      <td>anneal</td>\n",
       "      <td>active</td>\n",
       "    </tr>\n",
       "    <tr>\n",
       "      <th>1</th>\n",
       "      <td>684</td>\n",
       "      <td>9</td>\n",
       "      <td>0</td>\n",
       "      <td>7</td>\n",
       "      <td>6</td>\n",
       "      <td>39</td>\n",
       "      <td>898</td>\n",
       "      <td>898</td>\n",
       "      <td>22175</td>\n",
       "      <td>6</td>\n",
       "      <td>32</td>\n",
       "      <td>2</td>\n",
       "      <td>ARFF</td>\n",
       "      <td>anneal</td>\n",
       "      <td>active</td>\n",
       "    </tr>\n",
       "    <tr>\n",
       "      <th>2</th>\n",
       "      <td>1669</td>\n",
       "      <td>3</td>\n",
       "      <td>1527</td>\n",
       "      <td>34</td>\n",
       "      <td>2</td>\n",
       "      <td>37</td>\n",
       "      <td>3196</td>\n",
       "      <td>0</td>\n",
       "      <td>0</td>\n",
       "      <td>0</td>\n",
       "      <td>36</td>\n",
       "      <td>3</td>\n",
       "      <td>ARFF</td>\n",
       "      <td>kr-vs-kp</td>\n",
       "      <td>active</td>\n",
       "    </tr>\n",
       "    <tr>\n",
       "      <th>3</th>\n",
       "      <td>37</td>\n",
       "      <td>3</td>\n",
       "      <td>20</td>\n",
       "      <td>3</td>\n",
       "      <td>2</td>\n",
       "      <td>17</td>\n",
       "      <td>57</td>\n",
       "      <td>56</td>\n",
       "      <td>326</td>\n",
       "      <td>8</td>\n",
       "      <td>8</td>\n",
       "      <td>4</td>\n",
       "      <td>ARFF</td>\n",
       "      <td>labor</td>\n",
       "      <td>active</td>\n",
       "    </tr>\n",
       "    <tr>\n",
       "      <th>4</th>\n",
       "      <td>245</td>\n",
       "      <td>2</td>\n",
       "      <td>0</td>\n",
       "      <td>73</td>\n",
       "      <td>16</td>\n",
       "      <td>280</td>\n",
       "      <td>452</td>\n",
       "      <td>384</td>\n",
       "      <td>408</td>\n",
       "      <td>206</td>\n",
       "      <td>73</td>\n",
       "      <td>5</td>\n",
       "      <td>ARFF</td>\n",
       "      <td>arrhythmia</td>\n",
       "      <td>active</td>\n",
       "    </tr>\n",
       "  </tbody>\n",
       "</table>\n",
       "</div>"
      ],
      "text/plain": [
       "   MajorityClassSize  MaxNominalAttDistinctValues  MinorityClassSize  \\\n",
       "0                684                           10                  0   \n",
       "1                684                            9                  0   \n",
       "2               1669                            3               1527   \n",
       "3                 37                            3                 20   \n",
       "4                245                            2                  0   \n",
       "\n",
       "   NumBinaryAtts  NumberOfClasses  NumberOfFeatures  NumberOfInstances  \\\n",
       "0             14                6                39                898   \n",
       "1              7                6                39                898   \n",
       "2             34                2                37               3196   \n",
       "3              3                2                17                 57   \n",
       "4             73               16               280                452   \n",
       "\n",
       "   NumberOfInstancesWithMissingValues  NumberOfMissingValues  \\\n",
       "0                                   0                      0   \n",
       "1                                 898                  22175   \n",
       "2                                   0                      0   \n",
       "3                                  56                    326   \n",
       "4                                 384                    408   \n",
       "\n",
       "   NumberOfNumericFeatures  NumberOfSymbolicFeatures  did format        name  \\\n",
       "0                        6                        32    1   ARFF      anneal   \n",
       "1                        6                        32    2   ARFF      anneal   \n",
       "2                        0                        36    3   ARFF    kr-vs-kp   \n",
       "3                        8                         8    4   ARFF       labor   \n",
       "4                      206                        73    5   ARFF  arrhythmia   \n",
       "\n",
       "   status  \n",
       "0  active  \n",
       "1  active  \n",
       "2  active  \n",
       "3  active  \n",
       "4  active  "
      ]
     },
     "execution_count": 5,
     "metadata": {},
     "output_type": "execute_result"
    }
   ],
   "source": [
    "datasets = openml.datasets.get_dataset_list(con)\n",
    "\n",
    "datasets_df = pd.DataFrame(datasets)\n",
    "datasets_df.head()\n"
   ]
  },
  {
   "cell_type": "markdown",
   "metadata": {},
   "source": [
    "Download a specific dataset. This is done based on the dataset ID (called 'did' in the table above)."
   ]
  },
  {
   "cell_type": "code",
   "execution_count": 6,
   "metadata": {
    "collapsed": false
   },
   "outputs": [
    {
     "name": "stdout",
     "output_type": "stream",
     "text": [
      "Downloading dataset 61.\n",
      "This is dataset 'iris', the target feature is called 'class'\n",
      "More info, including the location off the .arff file on disk:\n",
      "{'citation': None,\n",
      " 'collection_date': u'1936',\n",
      " 'contributor': None,\n",
      " 'creator': u'R.A. Fisher',\n",
      " 'data_file': '/root/.openml/cache/datasets/61/dataset.arff',\n",
      " 'data_pickle_file': '/root/.openml/cache/datasets/61/dataset.pkl',\n",
      " 'default_target_attribute': u'class',\n",
      " 'description': u\"**Author**: R.A. Fisher  \\n**Source**: [UCI](https://archive.ics.uci.edu/ml/datasets/Iris) - 1936 - Donated by Michael Marshall  \\n**Please cite**:   \\n\\n**Iris Plants Database**  \\nThis is perhaps the best known database to be found in the pattern recognition literature.  Fisher's paper is a classic in the field and is referenced frequently to this day.  (See Duda & Hart, for example.)  The data set contains 3 classes of 50 instances each, where each class refers to a type of iris plant.  One class is     linearly separable from the other 2; the latter are NOT linearly separable from each other.\\n\\nPredicted attribute: class of iris plant.  \\nThis is an exceedingly simple domain.  \\n \\n### Attribute Information:\\n    1. sepal length in cm\\n    2. sepal width in cm\\n    3. petal length in cm\\n    4. petal width in cm\\n    5. class: \\n       -- Iris Setosa\\n       -- Iris Versicolour\\n       -- Iris Virginica\",\n",
      " 'format': u'ARFF',\n",
      " 'id': 61,\n",
      " 'ignore_attributes': None,\n",
      " 'language': None,\n",
      " 'licence': u'Public',\n",
      " 'md5_cheksum': u'3a212cce13fc6f9b94f4793285813d95',\n",
      " 'name': u'iris',\n",
      " 'original_data_url': u'https://archive.ics.uci.edu/ml/datasets/Iris',\n",
      " 'paper_url': u'http://digital.library.adelaide.edu.au/dspace/handle/2440/15227',\n",
      " 'row_id_attribute': None,\n",
      " 'tag': [u'study_1', u'study_4', u'study_7', u'uci'],\n",
      " 'update_comment': None,\n",
      " 'upload_date': u'2014-04-06 23:23:39',\n",
      " 'url': u'http://www.openml.org/data/download/61/dataset_61_iris.arff',\n",
      " 'version': 1,\n",
      " 'version_label': u'1',\n",
      " 'visibility': u'public'}\n"
     ]
    }
   ],
   "source": [
    "from pprint import pprint\n",
    "import arff\n",
    "\n",
    "N = 61\n",
    "print(\"Downloading dataset %d.\" % N)\n",
    "dataset = openml.datasets.download_dataset(con, N)\n",
    "\n",
    "print(\"This is dataset '%s', the target feature is called '%s'\" % (dataset.name, dataset.default_target_attribute))\n",
    "print(\"More info, including the location off the .arff file on disk:\")\n",
    "pprint(vars(dataset))\n"
   ]
  },
  {
   "cell_type": "code",
   "execution_count": 7,
   "metadata": {
    "collapsed": false
   },
   "outputs": [],
   "source": [
    "X, y = dataset.get_dataset(target=dataset.default_target_attribute)"
   ]
  },
  {
   "cell_type": "code",
   "execution_count": 8,
   "metadata": {
    "collapsed": false
   },
   "outputs": [],
   "source": [
    "features = openml.datasets.download_dataset_features(con, N)"
   ]
  },
  {
   "cell_type": "code",
   "execution_count": 9,
   "metadata": {
    "collapsed": false
   },
   "outputs": [
    {
     "data": {
      "text/plain": [
       "OrderedDict([(u'@xmlns:oml', u'http://openml.org/openml'),\n",
       "             (u'oml:feature',\n",
       "              [OrderedDict([(u'oml:index', u'0'),\n",
       "                            (u'oml:name', u'sepallength'),\n",
       "                            (u'oml:data_type', u'numeric'),\n",
       "                            (u'oml:is_target', u'false'),\n",
       "                            (u'oml:is_ignore', u'false'),\n",
       "                            (u'oml:is_row_identifier', u'false')]),\n",
       "               OrderedDict([(u'oml:index', u'1'),\n",
       "                            (u'oml:name', u'sepalwidth'),\n",
       "                            (u'oml:data_type', u'numeric'),\n",
       "                            (u'oml:is_target', u'false'),\n",
       "                            (u'oml:is_ignore', u'false'),\n",
       "                            (u'oml:is_row_identifier', u'false')]),\n",
       "               OrderedDict([(u'oml:index', u'2'),\n",
       "                            (u'oml:name', u'petallength'),\n",
       "                            (u'oml:data_type', u'numeric'),\n",
       "                            (u'oml:is_target', u'false'),\n",
       "                            (u'oml:is_ignore', u'false'),\n",
       "                            (u'oml:is_row_identifier', u'false')]),\n",
       "               OrderedDict([(u'oml:index', u'3'),\n",
       "                            (u'oml:name', u'petalwidth'),\n",
       "                            (u'oml:data_type', u'numeric'),\n",
       "                            (u'oml:is_target', u'false'),\n",
       "                            (u'oml:is_ignore', u'false'),\n",
       "                            (u'oml:is_row_identifier', u'false')]),\n",
       "               OrderedDict([(u'oml:index', u'4'),\n",
       "                            (u'oml:name', u'class'),\n",
       "                            (u'oml:data_type', u'nominal'),\n",
       "                            (u'oml:is_target', u'true'),\n",
       "                            (u'oml:is_ignore', u'false'),\n",
       "                            (u'oml:is_row_identifier', u'false')])])])"
      ]
     },
     "execution_count": 9,
     "metadata": {},
     "output_type": "execute_result"
    }
   ],
   "source": [
    "features"
   ]
  },
  {
   "cell_type": "code",
   "execution_count": 10,
   "metadata": {
    "cellView": null,
    "collapsed": false,
    "executionInfo": {
     "content": {
      "execution_count": 83,
      "payload": [],
      "status": "ok",
      "user_expressions": {},
      "user_variables": {}
     },
     "timestamp": 1455753527460,
     "user": {
      "color": "#1FA15D",
      "displayName": "Joaquin Vanschoren",
      "isAnonymous": false,
      "isMe": true,
      "permissionId": "09574386662628411592",
      "photoUrl": "//lh6.googleusercontent.com/-9g2BD5NUkx4/AAAAAAAAAAI/AAAAAAAACC4/sACE-8zBzX4/s50-c-k-no/photo.jpg",
      "sessionId": "4868f0f035c55454",
      "userId": "109221074076178034989"
     },
     "user_tz": -60
    }
   },
   "outputs": [
    {
     "name": "stdout",
     "output_type": "stream",
     "text": [
      "     0    1    2    3  class\n",
      "0  5.1  3.5  1.4  0.2      0\n",
      "1  4.9  3.0  1.4  0.2      0\n",
      "2  4.7  3.2  1.3  0.2      0\n",
      "3  4.6  3.1  1.5  0.2      0\n",
      "4  5.0  3.6  1.4  0.2      0\n",
      "5  5.4  3.9  1.7  0.4      0\n",
      "6  4.6  3.4  1.4  0.3      0\n",
      "7  5.0  3.4  1.5  0.2      0\n",
      "8  4.4  2.9  1.4  0.2      0\n",
      "9  4.9  3.1  1.5  0.1      0\n"
     ]
    }
   ],
   "source": [
    "iris = pd.DataFrame(X)\n",
    "iris['class'] = y\n",
    "print(iris[:10])"
   ]
  },
  {
   "cell_type": "markdown",
   "metadata": {},
   "source": [
    "Training a scikit-learn model with the data"
   ]
  },
  {
   "cell_type": "code",
   "execution_count": 11,
   "metadata": {
    "cellView": null,
    "collapsed": false,
    "executionInfo": {
     "content": {
      "execution_count": 78,
      "payload": [],
      "status": "ok",
      "user_expressions": {},
      "user_variables": {}
     },
     "timestamp": 1455752875510,
     "user": {
      "color": "#1FA15D",
      "displayName": "Joaquin Vanschoren",
      "isAnonymous": false,
      "isMe": true,
      "permissionId": "09574386662628411592",
      "photoUrl": "//lh6.googleusercontent.com/-9g2BD5NUkx4/AAAAAAAAAAI/AAAAAAAACC4/sACE-8zBzX4/s50-c-k-no/photo.jpg",
      "sessionId": "4868f0f035c55454",
      "userId": "109221074076178034989"
     },
     "user_tz": -60
    }
   },
   "outputs": [
    {
     "data": {
      "text/plain": [
       "RandomForestClassifier(bootstrap=True, class_weight=None, criterion='gini',\n",
       "            max_depth=None, max_features='auto', max_leaf_nodes=None,\n",
       "            min_samples_leaf=1, min_samples_split=2,\n",
       "            min_weight_fraction_leaf=0.0, n_estimators=10, n_jobs=1,\n",
       "            oob_score=False, random_state=None, verbose=0,\n",
       "            warm_start=False)"
      ]
     },
     "execution_count": 11,
     "metadata": {},
     "output_type": "execute_result"
    }
   ],
   "source": [
    "clf = ensemble.RandomForestClassifier()\n",
    "clf.fit(X, y)"
   ]
  },
  {
   "cell_type": "markdown",
   "metadata": {},
   "source": [
    "You can also ask with features are categorical to do your own encoding "
   ]
  },
  {
   "cell_type": "code",
   "execution_count": 12,
   "metadata": {
    "collapsed": false
   },
   "outputs": [],
   "source": [
    "task_list = openml.tasks.get_task_list(con)"
   ]
  },
  {
   "cell_type": "code",
   "execution_count": 13,
   "metadata": {
    "collapsed": false
   },
   "outputs": [
    {
     "name": "stdout",
     "output_type": "stream",
     "text": [
      "({'status': u'active', u'target_feature': u'class', 'task_type': u'Supervised Classification', u'NumberOfInstancesWithMissingValues': 0, 'name': u'anneal', u'estimation_procedure': u'10-fold Crossvalidation', 'did': 1, u'NumberOfSymbolicFeatures': 32, u'NumBinaryAtts': 14, u'NumberOfMissingValues': 0, u'MajorityClassSize': 684, u'NumberOfInstances': 898, u'source_data': u'1', u'evaluation_measures': u'predictive_accuracy', u'MaxNominalAttDistinctValues': 10, u'NumberOfClasses': 6, 'tid': 1, u'MinorityClassSize': 0, u'NumberOfFeatures': 39, u'NumberOfNumericFeatures': 6}, 1906)\n"
     ]
    }
   ],
   "source": [
    "print(task_list[0], len(task_list))"
   ]
  },
  {
   "cell_type": "code",
   "execution_count": 14,
   "metadata": {
    "cellView": null,
    "collapsed": false,
    "executionInfo": {
     "content": {
      "execution_count": 2,
      "payload": [],
      "status": "ok",
      "user_expressions": {},
      "user_variables": {}
     },
     "timestamp": 1455756616694,
     "user": {
      "color": "#1FA15D",
      "displayName": "Joaquin Vanschoren",
      "isAnonymous": false,
      "isMe": true,
      "permissionId": "09574386662628411592",
      "photoUrl": "//lh6.googleusercontent.com/-9g2BD5NUkx4/AAAAAAAAAAI/AAAAAAAACC4/sACE-8zBzX4/s50-c-k-no/photo.jpg",
      "sessionId": "705fdb90ea984ffb",
      "userId": "109221074076178034989"
     },
     "user_tz": -60
    }
   },
   "outputs": [
    {
     "data": {
      "text/html": [
       "<div>\n",
       "<table border=\"1\" class=\"dataframe\">\n",
       "  <thead>\n",
       "    <tr style=\"text-align: right;\">\n",
       "      <th></th>\n",
       "      <th>tid</th>\n",
       "      <th>did</th>\n",
       "      <th>task_type</th>\n",
       "      <th>NumberOfInstances</th>\n",
       "      <th>NumberOfFeatures</th>\n",
       "      <th>NumberOfClasses</th>\n",
       "    </tr>\n",
       "  </thead>\n",
       "  <tbody>\n",
       "    <tr>\n",
       "      <th>0</th>\n",
       "      <td>1</td>\n",
       "      <td>1</td>\n",
       "      <td>Supervised Classification</td>\n",
       "      <td>898</td>\n",
       "      <td>39</td>\n",
       "      <td>6</td>\n",
       "    </tr>\n",
       "    <tr>\n",
       "      <th>1</th>\n",
       "      <td>2</td>\n",
       "      <td>2</td>\n",
       "      <td>Supervised Classification</td>\n",
       "      <td>898</td>\n",
       "      <td>39</td>\n",
       "      <td>6</td>\n",
       "    </tr>\n",
       "    <tr>\n",
       "      <th>2</th>\n",
       "      <td>3</td>\n",
       "      <td>3</td>\n",
       "      <td>Supervised Classification</td>\n",
       "      <td>3196</td>\n",
       "      <td>37</td>\n",
       "      <td>2</td>\n",
       "    </tr>\n",
       "    <tr>\n",
       "      <th>3</th>\n",
       "      <td>4</td>\n",
       "      <td>4</td>\n",
       "      <td>Supervised Classification</td>\n",
       "      <td>57</td>\n",
       "      <td>17</td>\n",
       "      <td>2</td>\n",
       "    </tr>\n",
       "    <tr>\n",
       "      <th>4</th>\n",
       "      <td>5</td>\n",
       "      <td>5</td>\n",
       "      <td>Supervised Classification</td>\n",
       "      <td>452</td>\n",
       "      <td>280</td>\n",
       "      <td>16</td>\n",
       "    </tr>\n",
       "    <tr>\n",
       "      <th>5</th>\n",
       "      <td>6</td>\n",
       "      <td>6</td>\n",
       "      <td>Supervised Classification</td>\n",
       "      <td>20000</td>\n",
       "      <td>17</td>\n",
       "      <td>26</td>\n",
       "    </tr>\n",
       "    <tr>\n",
       "      <th>6</th>\n",
       "      <td>7</td>\n",
       "      <td>7</td>\n",
       "      <td>Supervised Classification</td>\n",
       "      <td>226</td>\n",
       "      <td>70</td>\n",
       "      <td>24</td>\n",
       "    </tr>\n",
       "    <tr>\n",
       "      <th>7</th>\n",
       "      <td>8</td>\n",
       "      <td>8</td>\n",
       "      <td>Supervised Classification</td>\n",
       "      <td>345</td>\n",
       "      <td>7</td>\n",
       "      <td>NaN</td>\n",
       "    </tr>\n",
       "    <tr>\n",
       "      <th>8</th>\n",
       "      <td>9</td>\n",
       "      <td>9</td>\n",
       "      <td>Supervised Classification</td>\n",
       "      <td>205</td>\n",
       "      <td>26</td>\n",
       "      <td>7</td>\n",
       "    </tr>\n",
       "    <tr>\n",
       "      <th>9</th>\n",
       "      <td>10</td>\n",
       "      <td>10</td>\n",
       "      <td>Supervised Classification</td>\n",
       "      <td>148</td>\n",
       "      <td>19</td>\n",
       "      <td>4</td>\n",
       "    </tr>\n",
       "    <tr>\n",
       "      <th>10</th>\n",
       "      <td>11</td>\n",
       "      <td>11</td>\n",
       "      <td>Supervised Classification</td>\n",
       "      <td>625</td>\n",
       "      <td>5</td>\n",
       "      <td>3</td>\n",
       "    </tr>\n",
       "  </tbody>\n",
       "</table>\n",
       "</div>"
      ],
      "text/plain": [
       "    tid  did                  task_type  NumberOfInstances  NumberOfFeatures  \\\n",
       "0     1    1  Supervised Classification                898                39   \n",
       "1     2    2  Supervised Classification                898                39   \n",
       "2     3    3  Supervised Classification               3196                37   \n",
       "3     4    4  Supervised Classification                 57                17   \n",
       "4     5    5  Supervised Classification                452               280   \n",
       "5     6    6  Supervised Classification              20000                17   \n",
       "6     7    7  Supervised Classification                226                70   \n",
       "7     8    8  Supervised Classification                345                 7   \n",
       "8     9    9  Supervised Classification                205                26   \n",
       "9    10   10  Supervised Classification                148                19   \n",
       "10   11   11  Supervised Classification                625                 5   \n",
       "\n",
       "    NumberOfClasses  \n",
       "0                 6  \n",
       "1                 6  \n",
       "2                 2  \n",
       "3                 2  \n",
       "4                16  \n",
       "5                26  \n",
       "6                24  \n",
       "7               NaN  \n",
       "8                 7  \n",
       "9                 4  \n",
       "10                3  "
      ]
     },
     "execution_count": 14,
     "metadata": {},
     "output_type": "execute_result"
    }
   ],
   "source": [
    "tasks = pd.DataFrame(task_list)\n",
    "tasks[['tid','did','task_type','NumberOfInstances','NumberOfFeatures','NumberOfClasses']].head(11)"
   ]
  },
  {
   "cell_type": "markdown",
   "metadata": {},
   "source": [
    "Download a single OpenML task (id=10), create a scikit-learn classifier (RandomForest), and run it on the task"
   ]
  },
  {
   "cell_type": "code",
   "execution_count": 15,
   "metadata": {
    "collapsed": false
   },
   "outputs": [
    {
     "name": "stdout",
     "output_type": "stream",
     "text": [
      "OpenMLTask instance.\n",
      "Task ID: 10107\n",
      "Task type: Supervised Classification\n",
      "Dataset id: 61\n"
     ]
    }
   ],
   "source": [
    "T = 10107\n",
    "task = openml.tasks.download_task(con, T)\n",
    "print(task)\n",
    "\n",
    "clf = ensemble.RandomForestClassifier()"
   ]
  },
  {
   "cell_type": "code",
   "execution_count": 16,
   "metadata": {
    "collapsed": false
   },
   "outputs": [
    {
     "name": "stdout",
     "output_type": "stream",
     "text": [
      "2638\n",
      "RandomForest has run on the task.\n"
     ]
    }
   ],
   "source": [
    "run = openml.runs.openml_run(con, task, clf)\n",
    "print(\"RandomForest has run on the task.\")"
   ]
  },
  {
   "cell_type": "markdown",
   "metadata": {},
   "source": [
    "Upload the run to the OpenML server"
   ]
  },
  {
   "cell_type": "code",
   "execution_count": 17,
   "metadata": {
    "collapsed": false
   },
   "outputs": [
    {
     "name": "stderr",
     "output_type": "stream",
     "text": [
      "/root/miniconda/envs/rep_py2/lib/python2.7/site-packages/arff.py:366: UnicodeWarning: Unicode equal comparison failed to convert both arguments to Unicode - interpreting them as being unequal\n",
      "  if value is None or value == u'' or value != value:\n"
     ]
    }
   ],
   "source": [
    "return_code, response = run.publish(con)"
   ]
  },
  {
   "cell_type": "code",
   "execution_count": 18,
   "metadata": {
    "collapsed": false
   },
   "outputs": [
    {
     "name": "stdout",
     "output_type": "stream",
     "text": [
      "Uploaded run with id 537768\n"
     ]
    },
    {
     "data": {
      "text/html": [
       "<a href='http://www.openml.org/r/537768' target=_blank>http://www.openml.org/r/537768</a>"
      ],
      "text/plain": [
       "<IPython.core.display.HTML object>"
      ]
     },
     "metadata": {},
     "output_type": "display_data"
    }
   ],
   "source": [
    "if(return_code == 200):\n",
    "    response_dict = xmltodict.parse(response)\n",
    "    run_id = response_dict['oml:upload_run']['oml:run_id']\n",
    "    print(\"Uploaded run with id %s\" % (run_id))\n",
    "    display(HTML(\"<a href='http://www.openml.org/r/{0}' target=_blank>http://www.openml.org/r/{0}</a>\".format(run_id)))\n"
   ]
  },
  {
   "cell_type": "code",
   "execution_count": null,
   "metadata": {
    "collapsed": true
   },
   "outputs": [],
   "source": []
  }
 ],
 "metadata": {
  "colabVersion": "0.1",
  "kernelspec": {
   "display_name": "Python 2",
   "language": "python",
   "name": "python2"
  },
  "language_info": {
   "codemirror_mode": {
    "name": "ipython",
    "version": 2
   },
   "file_extension": ".py",
   "mimetype": "text/x-python",
   "name": "python",
   "nbconvert_exporter": "python",
   "pygments_lexer": "ipython2",
   "version": "2.7.10"
  }
 },
 "nbformat": 4,
 "nbformat_minor": 0
}
