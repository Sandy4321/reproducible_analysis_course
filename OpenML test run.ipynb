{
 "cells": [
  {
   "cell_type": "markdown",
   "metadata": {},
   "source": [
    "## OpenML in research, iris\n",
    "\n",
    "It covers downloading datasets, tasks, how to use scikit-learn to build classifiers, and upload the results to the server.\n"
   ]
  },
  {
   "cell_type": "markdown",
   "metadata": {},
   "source": [
    "Initialization and login. This assumes you have a .openml dir in your homedir with a subdir for caches and a file with your API key. You find your API key in your account settings on openml.org."
   ]
  },
  {
   "cell_type": "code",
   "execution_count": 1,
   "metadata": {
    "collapsed": true
   },
   "outputs": [],
   "source": [
    "from sklearn import preprocessing, ensemble\n",
    "from openml.apiconnector import APIConnector\n",
    "import numpy as np\n",
    "import pandas as pd\n",
    "import os\n",
    "import openml\n",
    "import xmltodict\n",
    "from IPython.core.display import display, HTML\n",
    "\n",
    "\n",
    "openml_dir = os.path.join(os.path.expanduser(\"~\"), \".openml\")\n",
    "if not os.path.exists(openml_dir): os.makedirs(openml_dir)\n",
    "cache_dir = os.path.join(openml_dir, \"cache\")\n",
    "key =  ## Put your key as a string here"
   ]
  },
  {
   "cell_type": "code",
   "execution_count": 2,
   "metadata": {
    "cellView": null,
    "collapsed": false,
    "executionInfo": {
     "content": {
      "execution_count": 1,
      "payload": [],
      "status": "ok",
      "user_expressions": {},
      "user_variables": {}
     },
     "timestamp": 1455756578370,
     "user": {
      "color": "#1FA15D",
      "displayName": "Joaquin Vanschoren",
      "isAnonymous": false,
      "isMe": true,
      "permissionId": "09574386662628411592",
      "photoUrl": "//lh6.googleusercontent.com/-9g2BD5NUkx4/AAAAAAAAAAI/AAAAAAAACC4/sACE-8zBzX4/s50-c-k-no/photo.jpg",
      "sessionId": "705fdb90ea984ffb",
      "userId": "109221074076178034989"
     },
     "user_tz": -60
    }
   },
   "outputs": [],
   "source": [
    "con = APIConnector(cache_directory=cache_dir, apikey=key)"
   ]
  },
  {
   "cell_type": "markdown",
   "metadata": {},
   "source": [
    "List all datasets on OpenML"
   ]
  },
  {
   "cell_type": "code",
   "execution_count": 3,
   "metadata": {
    "cellView": null,
    "collapsed": false,
    "executionInfo": {
     "content": {
      "execution_count": 43,
      "payload": [],
      "status": "ok",
      "user_expressions": {},
      "user_variables": {}
     },
     "timestamp": 1455749142183,
     "user": {
      "color": "#1FA15D",
      "displayName": "Joaquin Vanschoren",
      "isAnonymous": false,
      "isMe": true,
      "permissionId": "09574386662628411592",
      "photoUrl": "//lh6.googleusercontent.com/-9g2BD5NUkx4/AAAAAAAAAAI/AAAAAAAACC4/sACE-8zBzX4/s50-c-k-no/photo.jpg",
      "sessionId": "4c10e6f89dcd9d83",
      "userId": "109221074076178034989"
     },
     "user_tz": -60
    }
   },
   "outputs": [
    {
     "data": {
      "text/html": [
       "<div>\n",
       "<table border=\"1\" class=\"dataframe\">\n",
       "  <thead>\n",
       "    <tr style=\"text-align: right;\">\n",
       "      <th></th>\n",
       "      <th>MajorityClassSize</th>\n",
       "      <th>MaxNominalAttDistinctValues</th>\n",
       "      <th>MinorityClassSize</th>\n",
       "      <th>NumBinaryAtts</th>\n",
       "      <th>NumberOfClasses</th>\n",
       "      <th>NumberOfFeatures</th>\n",
       "      <th>NumberOfInstances</th>\n",
       "      <th>NumberOfInstancesWithMissingValues</th>\n",
       "      <th>NumberOfMissingValues</th>\n",
       "      <th>NumberOfNumericFeatures</th>\n",
       "      <th>NumberOfSymbolicFeatures</th>\n",
       "      <th>did</th>\n",
       "      <th>format</th>\n",
       "      <th>name</th>\n",
       "      <th>status</th>\n",
       "    </tr>\n",
       "  </thead>\n",
       "  <tbody>\n",
       "    <tr>\n",
       "      <th>0</th>\n",
       "      <td>684.0</td>\n",
       "      <td>10.0</td>\n",
       "      <td>0.0</td>\n",
       "      <td>14.0</td>\n",
       "      <td>6.0</td>\n",
       "      <td>39.0</td>\n",
       "      <td>898.0</td>\n",
       "      <td>0.0</td>\n",
       "      <td>0.0</td>\n",
       "      <td>6.0</td>\n",
       "      <td>32.0</td>\n",
       "      <td>1</td>\n",
       "      <td>ARFF</td>\n",
       "      <td>anneal</td>\n",
       "      <td>active</td>\n",
       "    </tr>\n",
       "    <tr>\n",
       "      <th>1</th>\n",
       "      <td>684.0</td>\n",
       "      <td>9.0</td>\n",
       "      <td>0.0</td>\n",
       "      <td>7.0</td>\n",
       "      <td>6.0</td>\n",
       "      <td>39.0</td>\n",
       "      <td>898.0</td>\n",
       "      <td>898.0</td>\n",
       "      <td>22175.0</td>\n",
       "      <td>6.0</td>\n",
       "      <td>32.0</td>\n",
       "      <td>2</td>\n",
       "      <td>ARFF</td>\n",
       "      <td>anneal</td>\n",
       "      <td>active</td>\n",
       "    </tr>\n",
       "    <tr>\n",
       "      <th>2</th>\n",
       "      <td>1669.0</td>\n",
       "      <td>3.0</td>\n",
       "      <td>1527.0</td>\n",
       "      <td>34.0</td>\n",
       "      <td>2.0</td>\n",
       "      <td>37.0</td>\n",
       "      <td>3196.0</td>\n",
       "      <td>0.0</td>\n",
       "      <td>0.0</td>\n",
       "      <td>0.0</td>\n",
       "      <td>36.0</td>\n",
       "      <td>3</td>\n",
       "      <td>ARFF</td>\n",
       "      <td>kr-vs-kp</td>\n",
       "      <td>active</td>\n",
       "    </tr>\n",
       "    <tr>\n",
       "      <th>3</th>\n",
       "      <td>37.0</td>\n",
       "      <td>3.0</td>\n",
       "      <td>20.0</td>\n",
       "      <td>3.0</td>\n",
       "      <td>2.0</td>\n",
       "      <td>17.0</td>\n",
       "      <td>57.0</td>\n",
       "      <td>56.0</td>\n",
       "      <td>326.0</td>\n",
       "      <td>8.0</td>\n",
       "      <td>8.0</td>\n",
       "      <td>4</td>\n",
       "      <td>ARFF</td>\n",
       "      <td>labor</td>\n",
       "      <td>active</td>\n",
       "    </tr>\n",
       "    <tr>\n",
       "      <th>4</th>\n",
       "      <td>245.0</td>\n",
       "      <td>2.0</td>\n",
       "      <td>0.0</td>\n",
       "      <td>73.0</td>\n",
       "      <td>16.0</td>\n",
       "      <td>280.0</td>\n",
       "      <td>452.0</td>\n",
       "      <td>384.0</td>\n",
       "      <td>408.0</td>\n",
       "      <td>206.0</td>\n",
       "      <td>73.0</td>\n",
       "      <td>5</td>\n",
       "      <td>ARFF</td>\n",
       "      <td>arrhythmia</td>\n",
       "      <td>active</td>\n",
       "    </tr>\n",
       "  </tbody>\n",
       "</table>\n",
       "</div>"
      ],
      "text/plain": [
       "   MajorityClassSize  MaxNominalAttDistinctValues  MinorityClassSize  \\\n",
       "0              684.0                         10.0                0.0   \n",
       "1              684.0                          9.0                0.0   \n",
       "2             1669.0                          3.0             1527.0   \n",
       "3               37.0                          3.0               20.0   \n",
       "4              245.0                          2.0                0.0   \n",
       "\n",
       "   NumBinaryAtts  NumberOfClasses  NumberOfFeatures  NumberOfInstances  \\\n",
       "0           14.0              6.0              39.0              898.0   \n",
       "1            7.0              6.0              39.0              898.0   \n",
       "2           34.0              2.0              37.0             3196.0   \n",
       "3            3.0              2.0              17.0               57.0   \n",
       "4           73.0             16.0             280.0              452.0   \n",
       "\n",
       "   NumberOfInstancesWithMissingValues  NumberOfMissingValues  \\\n",
       "0                                 0.0                    0.0   \n",
       "1                               898.0                22175.0   \n",
       "2                                 0.0                    0.0   \n",
       "3                                56.0                  326.0   \n",
       "4                               384.0                  408.0   \n",
       "\n",
       "   NumberOfNumericFeatures  NumberOfSymbolicFeatures  did format        name  \\\n",
       "0                      6.0                      32.0    1   ARFF      anneal   \n",
       "1                      6.0                      32.0    2   ARFF      anneal   \n",
       "2                      0.0                      36.0    3   ARFF    kr-vs-kp   \n",
       "3                      8.0                       8.0    4   ARFF       labor   \n",
       "4                    206.0                      73.0    5   ARFF  arrhythmia   \n",
       "\n",
       "   status  \n",
       "0  active  \n",
       "1  active  \n",
       "2  active  \n",
       "3  active  \n",
       "4  active  "
      ]
     },
     "execution_count": 3,
     "metadata": {},
     "output_type": "execute_result"
    }
   ],
   "source": [
    "datasets = openml.datasets.get_dataset_list(con)\n",
    "\n",
    "datasets_df = pd.DataFrame(datasets)\n",
    "datasets_df.head()\n"
   ]
  },
  {
   "cell_type": "markdown",
   "metadata": {},
   "source": [
    "Download a specific dataset. This is done based on the dataset ID (called 'did' in the table above)."
   ]
  },
  {
   "cell_type": "code",
   "execution_count": 4,
   "metadata": {
    "collapsed": false
   },
   "outputs": [
    {
     "name": "stdout",
     "output_type": "stream",
     "text": [
      "Downloading dataset 61.\n",
      "This is dataset 'iris', the target feature is called 'class'\n",
      "More info, including the location off the .arff file on disk:\n",
      "{'citation': None,\n",
      " 'collection_date': '1936',\n",
      " 'contributor': None,\n",
      " 'creator': 'R.A. Fisher',\n",
      " 'data_file': '/Users/anaderi/.openml/cache/datasets/61/dataset.arff',\n",
      " 'data_pickle_file': '/Users/anaderi/.openml/cache/datasets/61/dataset.pkl',\n",
      " 'default_target_attribute': 'class',\n",
      " 'description': '**Author**: R.A. Fisher  \\n'\n",
      "                '**Source**: '\n",
      "                '[UCI](https://archive.ics.uci.edu/ml/datasets/Iris) - 1936 - '\n",
      "                'Donated by Michael Marshall  \\n'\n",
      "                '**Please cite**:   \\n'\n",
      "                '\\n'\n",
      "                '**Iris Plants Database**  \\n'\n",
      "                'This is perhaps the best known database to be found in the '\n",
      "                \"pattern recognition literature.  Fisher's paper is a classic \"\n",
      "                'in the field and is referenced frequently to this day.  (See '\n",
      "                'Duda & Hart, for example.)  The data set contains 3 classes '\n",
      "                'of 50 instances each, where each class refers to a type of '\n",
      "                'iris plant.  One class is     linearly separable from the '\n",
      "                'other 2; the latter are NOT linearly separable from each '\n",
      "                'other.\\n'\n",
      "                '\\n'\n",
      "                'Predicted attribute: class of iris plant.  \\n'\n",
      "                'This is an exceedingly simple domain.  \\n'\n",
      "                ' \\n'\n",
      "                '### Attribute Information:\\n'\n",
      "                '    1. sepal length in cm\\n'\n",
      "                '    2. sepal width in cm\\n'\n",
      "                '    3. petal length in cm\\n'\n",
      "                '    4. petal width in cm\\n'\n",
      "                '    5. class: \\n'\n",
      "                '       -- Iris Setosa\\n'\n",
      "                '       -- Iris Versicolour\\n'\n",
      "                '       -- Iris Virginica',\n",
      " 'format': 'ARFF',\n",
      " 'id': 61,\n",
      " 'ignore_attributes': None,\n",
      " 'language': None,\n",
      " 'licence': 'Public',\n",
      " 'md5_cheksum': '3a212cce13fc6f9b94f4793285813d95',\n",
      " 'name': 'iris',\n",
      " 'original_data_url': 'https://archive.ics.uci.edu/ml/datasets/Iris',\n",
      " 'paper_url': 'http://digital.library.adelaide.edu.au/dspace/handle/2440/15227',\n",
      " 'row_id_attribute': None,\n",
      " 'tag': ['study_1', 'study_4', 'study_7', 'uci'],\n",
      " 'update_comment': None,\n",
      " 'upload_date': '2014-04-06 23:23:39',\n",
      " 'url': 'http://www.openml.org/data/download/61/dataset_61_iris.arff',\n",
      " 'version': 1,\n",
      " 'version_label': '1',\n",
      " 'visibility': 'public'}\n"
     ]
    }
   ],
   "source": [
    "from pprint import pprint\n",
    "import arff\n",
    "\n",
    "N = 61\n",
    "print(\"Downloading dataset %d.\" % N)\n",
    "dataset = openml.datasets.download_dataset(con, N)\n",
    "\n",
    "print(\"This is dataset '%s', the target feature is called '%s'\" % (dataset.name, dataset.default_target_attribute))\n",
    "print(\"More info, including the location off the .arff file on disk:\")\n",
    "pprint(vars(dataset))\n"
   ]
  },
  {
   "cell_type": "code",
   "execution_count": 5,
   "metadata": {
    "collapsed": false
   },
   "outputs": [],
   "source": [
    "X, y = dataset.get_dataset(target=dataset.default_target_attribute)"
   ]
  },
  {
   "cell_type": "code",
   "execution_count": 6,
   "metadata": {
    "collapsed": false
   },
   "outputs": [],
   "source": [
    "features = openml.datasets.download_dataset_features(con, N)"
   ]
  },
  {
   "cell_type": "code",
   "execution_count": 7,
   "metadata": {
    "collapsed": false
   },
   "outputs": [
    {
     "data": {
      "text/plain": [
       "OrderedDict([('@xmlns:oml', 'http://openml.org/openml'),\n",
       "             ('oml:feature',\n",
       "              [OrderedDict([('oml:index', '0'),\n",
       "                            ('oml:name', 'sepallength'),\n",
       "                            ('oml:data_type', 'numeric'),\n",
       "                            ('oml:is_target', 'false'),\n",
       "                            ('oml:is_ignore', 'false'),\n",
       "                            ('oml:is_row_identifier', 'false')]),\n",
       "               OrderedDict([('oml:index', '1'),\n",
       "                            ('oml:name', 'sepalwidth'),\n",
       "                            ('oml:data_type', 'numeric'),\n",
       "                            ('oml:is_target', 'false'),\n",
       "                            ('oml:is_ignore', 'false'),\n",
       "                            ('oml:is_row_identifier', 'false')]),\n",
       "               OrderedDict([('oml:index', '2'),\n",
       "                            ('oml:name', 'petallength'),\n",
       "                            ('oml:data_type', 'numeric'),\n",
       "                            ('oml:is_target', 'false'),\n",
       "                            ('oml:is_ignore', 'false'),\n",
       "                            ('oml:is_row_identifier', 'false')]),\n",
       "               OrderedDict([('oml:index', '3'),\n",
       "                            ('oml:name', 'petalwidth'),\n",
       "                            ('oml:data_type', 'numeric'),\n",
       "                            ('oml:is_target', 'false'),\n",
       "                            ('oml:is_ignore', 'false'),\n",
       "                            ('oml:is_row_identifier', 'false')]),\n",
       "               OrderedDict([('oml:index', '4'),\n",
       "                            ('oml:name', 'class'),\n",
       "                            ('oml:data_type', 'nominal'),\n",
       "                            ('oml:is_target', 'true'),\n",
       "                            ('oml:is_ignore', 'false'),\n",
       "                            ('oml:is_row_identifier', 'false')])])])"
      ]
     },
     "execution_count": 7,
     "metadata": {},
     "output_type": "execute_result"
    }
   ],
   "source": [
    "features"
   ]
  },
  {
   "cell_type": "code",
   "execution_count": 8,
   "metadata": {
    "cellView": null,
    "collapsed": false,
    "executionInfo": {
     "content": {
      "execution_count": 83,
      "payload": [],
      "status": "ok",
      "user_expressions": {},
      "user_variables": {}
     },
     "timestamp": 1455753527460,
     "user": {
      "color": "#1FA15D",
      "displayName": "Joaquin Vanschoren",
      "isAnonymous": false,
      "isMe": true,
      "permissionId": "09574386662628411592",
      "photoUrl": "//lh6.googleusercontent.com/-9g2BD5NUkx4/AAAAAAAAAAI/AAAAAAAACC4/sACE-8zBzX4/s50-c-k-no/photo.jpg",
      "sessionId": "4868f0f035c55454",
      "userId": "109221074076178034989"
     },
     "user_tz": -60
    }
   },
   "outputs": [
    {
     "name": "stdout",
     "output_type": "stream",
     "text": [
      "     0    1    2    3  class\n",
      "0  5.1  3.5  1.4  0.2      0\n",
      "1  4.9  3.0  1.4  0.2      0\n",
      "2  4.7  3.2  1.3  0.2      0\n",
      "3  4.6  3.1  1.5  0.2      0\n",
      "4  5.0  3.6  1.4  0.2      0\n",
      "5  5.4  3.9  1.7  0.4      0\n",
      "6  4.6  3.4  1.4  0.3      0\n",
      "7  5.0  3.4  1.5  0.2      0\n",
      "8  4.4  2.9  1.4  0.2      0\n",
      "9  4.9  3.1  1.5  0.1      0\n"
     ]
    }
   ],
   "source": [
    "iris = pd.DataFrame(X)\n",
    "iris['class'] = y\n",
    "print(iris[:10])"
   ]
  },
  {
   "cell_type": "markdown",
   "metadata": {},
   "source": [
    "Training a scikit-learn model with the data"
   ]
  },
  {
   "cell_type": "code",
   "execution_count": 9,
   "metadata": {
    "cellView": null,
    "collapsed": false,
    "executionInfo": {
     "content": {
      "execution_count": 78,
      "payload": [],
      "status": "ok",
      "user_expressions": {},
      "user_variables": {}
     },
     "timestamp": 1455752875510,
     "user": {
      "color": "#1FA15D",
      "displayName": "Joaquin Vanschoren",
      "isAnonymous": false,
      "isMe": true,
      "permissionId": "09574386662628411592",
      "photoUrl": "//lh6.googleusercontent.com/-9g2BD5NUkx4/AAAAAAAAAAI/AAAAAAAACC4/sACE-8zBzX4/s50-c-k-no/photo.jpg",
      "sessionId": "4868f0f035c55454",
      "userId": "109221074076178034989"
     },
     "user_tz": -60
    }
   },
   "outputs": [
    {
     "data": {
      "text/plain": [
       "RandomForestClassifier(bootstrap=True, class_weight=None, criterion='gini',\n",
       "            max_depth=None, max_features='auto', max_leaf_nodes=None,\n",
       "            min_samples_leaf=1, min_samples_split=2,\n",
       "            min_weight_fraction_leaf=0.0, n_estimators=10, n_jobs=1,\n",
       "            oob_score=False, random_state=None, verbose=0,\n",
       "            warm_start=False)"
      ]
     },
     "execution_count": 9,
     "metadata": {},
     "output_type": "execute_result"
    }
   ],
   "source": [
    "clf = ensemble.RandomForestClassifier()\n",
    "clf.fit(X, y)"
   ]
  },
  {
   "cell_type": "markdown",
   "metadata": {},
   "source": [
    "You can also ask with features are categorical to do your own encoding "
   ]
  },
  {
   "cell_type": "code",
   "execution_count": 10,
   "metadata": {
    "collapsed": false
   },
   "outputs": [],
   "source": [
    "task_list = openml.tasks.get_task_list(con)"
   ]
  },
  {
   "cell_type": "code",
   "execution_count": 11,
   "metadata": {
    "collapsed": false
   },
   "outputs": [
    {
     "name": "stdout",
     "output_type": "stream",
     "text": [
      "{'NumberOfMissingValues': 0, 'task_type': 'Supervised Classification', 'NumberOfInstances': 898, 'MajorityClassSize': 684, 'MinorityClassSize': 0, 'NumberOfSymbolicFeatures': 32, 'NumberOfClasses': 6, 'MaxNominalAttDistinctValues': 10, 'NumberOfInstancesWithMissingValues': 0, 'estimation_procedure': '10-fold Crossvalidation', 'NumBinaryAtts': 14, 'NumberOfFeatures': 39, 'name': 'anneal', 'tid': 1, 'source_data': '1', 'evaluation_measures': 'predictive_accuracy', 'did': 1, 'NumberOfNumericFeatures': 6, 'target_feature': 'class', 'status': 'active'} 1906\n"
     ]
    }
   ],
   "source": [
    "print(task_list[0], len(task_list))"
   ]
  },
  {
   "cell_type": "code",
   "execution_count": 12,
   "metadata": {
    "cellView": null,
    "collapsed": false,
    "executionInfo": {
     "content": {
      "execution_count": 2,
      "payload": [],
      "status": "ok",
      "user_expressions": {},
      "user_variables": {}
     },
     "timestamp": 1455756616694,
     "user": {
      "color": "#1FA15D",
      "displayName": "Joaquin Vanschoren",
      "isAnonymous": false,
      "isMe": true,
      "permissionId": "09574386662628411592",
      "photoUrl": "//lh6.googleusercontent.com/-9g2BD5NUkx4/AAAAAAAAAAI/AAAAAAAACC4/sACE-8zBzX4/s50-c-k-no/photo.jpg",
      "sessionId": "705fdb90ea984ffb",
      "userId": "109221074076178034989"
     },
     "user_tz": -60
    }
   },
   "outputs": [
    {
     "data": {
      "text/html": [
       "<div>\n",
       "<table border=\"1\" class=\"dataframe\">\n",
       "  <thead>\n",
       "    <tr style=\"text-align: right;\">\n",
       "      <th></th>\n",
       "      <th>tid</th>\n",
       "      <th>did</th>\n",
       "      <th>task_type</th>\n",
       "      <th>NumberOfInstances</th>\n",
       "      <th>NumberOfFeatures</th>\n",
       "      <th>NumberOfClasses</th>\n",
       "    </tr>\n",
       "  </thead>\n",
       "  <tbody>\n",
       "    <tr>\n",
       "      <th>0</th>\n",
       "      <td>1</td>\n",
       "      <td>1</td>\n",
       "      <td>Supervised Classification</td>\n",
       "      <td>898</td>\n",
       "      <td>39</td>\n",
       "      <td>6.0</td>\n",
       "    </tr>\n",
       "    <tr>\n",
       "      <th>1</th>\n",
       "      <td>2</td>\n",
       "      <td>2</td>\n",
       "      <td>Supervised Classification</td>\n",
       "      <td>898</td>\n",
       "      <td>39</td>\n",
       "      <td>6.0</td>\n",
       "    </tr>\n",
       "    <tr>\n",
       "      <th>2</th>\n",
       "      <td>3</td>\n",
       "      <td>3</td>\n",
       "      <td>Supervised Classification</td>\n",
       "      <td>3196</td>\n",
       "      <td>37</td>\n",
       "      <td>2.0</td>\n",
       "    </tr>\n",
       "    <tr>\n",
       "      <th>3</th>\n",
       "      <td>4</td>\n",
       "      <td>4</td>\n",
       "      <td>Supervised Classification</td>\n",
       "      <td>57</td>\n",
       "      <td>17</td>\n",
       "      <td>2.0</td>\n",
       "    </tr>\n",
       "    <tr>\n",
       "      <th>4</th>\n",
       "      <td>5</td>\n",
       "      <td>5</td>\n",
       "      <td>Supervised Classification</td>\n",
       "      <td>452</td>\n",
       "      <td>280</td>\n",
       "      <td>16.0</td>\n",
       "    </tr>\n",
       "    <tr>\n",
       "      <th>5</th>\n",
       "      <td>6</td>\n",
       "      <td>6</td>\n",
       "      <td>Supervised Classification</td>\n",
       "      <td>20000</td>\n",
       "      <td>17</td>\n",
       "      <td>26.0</td>\n",
       "    </tr>\n",
       "    <tr>\n",
       "      <th>6</th>\n",
       "      <td>7</td>\n",
       "      <td>7</td>\n",
       "      <td>Supervised Classification</td>\n",
       "      <td>226</td>\n",
       "      <td>70</td>\n",
       "      <td>24.0</td>\n",
       "    </tr>\n",
       "    <tr>\n",
       "      <th>7</th>\n",
       "      <td>8</td>\n",
       "      <td>8</td>\n",
       "      <td>Supervised Classification</td>\n",
       "      <td>345</td>\n",
       "      <td>7</td>\n",
       "      <td>NaN</td>\n",
       "    </tr>\n",
       "    <tr>\n",
       "      <th>8</th>\n",
       "      <td>9</td>\n",
       "      <td>9</td>\n",
       "      <td>Supervised Classification</td>\n",
       "      <td>205</td>\n",
       "      <td>26</td>\n",
       "      <td>7.0</td>\n",
       "    </tr>\n",
       "    <tr>\n",
       "      <th>9</th>\n",
       "      <td>10</td>\n",
       "      <td>10</td>\n",
       "      <td>Supervised Classification</td>\n",
       "      <td>148</td>\n",
       "      <td>19</td>\n",
       "      <td>4.0</td>\n",
       "    </tr>\n",
       "    <tr>\n",
       "      <th>10</th>\n",
       "      <td>11</td>\n",
       "      <td>11</td>\n",
       "      <td>Supervised Classification</td>\n",
       "      <td>625</td>\n",
       "      <td>5</td>\n",
       "      <td>3.0</td>\n",
       "    </tr>\n",
       "  </tbody>\n",
       "</table>\n",
       "</div>"
      ],
      "text/plain": [
       "    tid  did                  task_type  NumberOfInstances  NumberOfFeatures  \\\n",
       "0     1    1  Supervised Classification                898                39   \n",
       "1     2    2  Supervised Classification                898                39   \n",
       "2     3    3  Supervised Classification               3196                37   \n",
       "3     4    4  Supervised Classification                 57                17   \n",
       "4     5    5  Supervised Classification                452               280   \n",
       "5     6    6  Supervised Classification              20000                17   \n",
       "6     7    7  Supervised Classification                226                70   \n",
       "7     8    8  Supervised Classification                345                 7   \n",
       "8     9    9  Supervised Classification                205                26   \n",
       "9    10   10  Supervised Classification                148                19   \n",
       "10   11   11  Supervised Classification                625                 5   \n",
       "\n",
       "    NumberOfClasses  \n",
       "0               6.0  \n",
       "1               6.0  \n",
       "2               2.0  \n",
       "3               2.0  \n",
       "4              16.0  \n",
       "5              26.0  \n",
       "6              24.0  \n",
       "7               NaN  \n",
       "8               7.0  \n",
       "9               4.0  \n",
       "10              3.0  "
      ]
     },
     "execution_count": 12,
     "metadata": {},
     "output_type": "execute_result"
    }
   ],
   "source": [
    "tasks = pd.DataFrame(task_list)\n",
    "tasks[['tid','did','task_type','NumberOfInstances','NumberOfFeatures','NumberOfClasses']].head(11)"
   ]
  },
  {
   "cell_type": "markdown",
   "metadata": {},
   "source": [
    "Download a single OpenML task (id=10), create a scikit-learn classifier (RandomForest), and run it on the task"
   ]
  },
  {
   "cell_type": "code",
   "execution_count": 13,
   "metadata": {
    "collapsed": false
   },
   "outputs": [
    {
     "name": "stdout",
     "output_type": "stream",
     "text": [
      "OpenMLTask instance.\n",
      "Task ID: 10107\n",
      "Task type: Supervised Classification\n",
      "Dataset id: 61\n"
     ]
    }
   ],
   "source": [
    "T = 10107\n",
    "task = openml.tasks.download_task(con, T)\n",
    "print(task)\n",
    "\n",
    "clf = ensemble.RandomForestClassifier()"
   ]
  },
  {
   "cell_type": "code",
   "execution_count": 14,
   "metadata": {
    "collapsed": false
   },
   "outputs": [
    {
     "name": "stdout",
     "output_type": "stream",
     "text": [
      "2799\n",
      "RandomForest has run on the task.\n"
     ]
    }
   ],
   "source": [
    "run = openml.runs.openml_run(con, task, clf)\n",
    "print(\"RandomForest has run on the task.\")"
   ]
  },
  {
   "cell_type": "markdown",
   "metadata": {},
   "source": [
    "Upload the run to the OpenML server"
   ]
  },
  {
   "cell_type": "code",
   "execution_count": 15,
   "metadata": {
    "collapsed": false
   },
   "outputs": [],
   "source": [
    "return_code, response = run.publish(con)"
   ]
  },
  {
   "cell_type": "code",
   "execution_count": 17,
   "metadata": {
    "collapsed": false
   },
   "outputs": [
    {
     "name": "stdout",
     "output_type": "stream",
     "text": [
      "Uploaded run with id 537752\n"
     ]
    },
    {
     "data": {
      "text/html": [
       "<a href='http://www.openml.org/r/537752' target=_blank>http://www.openml.org/r/537752</a>"
      ],
      "text/plain": [
       "<IPython.core.display.HTML object>"
      ]
     },
     "metadata": {},
     "output_type": "display_data"
    }
   ],
   "source": [
    "if(return_code == 200):\n",
    "    response_dict = xmltodict.parse(response)\n",
    "    run_id = response_dict['oml:upload_run']['oml:run_id']\n",
    "    print(\"Uploaded run with id %s\" % (run_id))\n",
    "    display(HTML(\"<a href='http://www.openml.org/r/{0}' target=_blank>http://www.openml.org/r/{0}</a>\".format(run_id)))\n"
   ]
  },
  {
   "cell_type": "code",
   "execution_count": null,
   "metadata": {
    "collapsed": true
   },
   "outputs": [],
   "source": []
  }
 ],
 "metadata": {
  "colabVersion": "0.1",
  "kernelspec": {
   "display_name": "Python 3",
   "language": "python",
   "name": "python3"
  },
  "language_info": {
   "codemirror_mode": {
    "name": "ipython",
    "version": 3
   },
   "file_extension": ".py",
   "mimetype": "text/x-python",
   "name": "python",
   "nbconvert_exporter": "python",
   "pygments_lexer": "ipython3",
   "version": "3.5.1"
  }
 },
 "nbformat": 4,
 "nbformat_minor": 0
}
