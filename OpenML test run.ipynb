{
 "cells": [
  {
   "cell_type": "markdown",
   "metadata": {},
   "source": [
    "## OpenML in research, iris\n",
    "\n",
    "It covers downloading datasets, tasks, how to use scikit-learn to build classifiers, and upload the results to the server.\n"
   ]
  },
  {
   "cell_type": "markdown",
   "metadata": {},
   "source": [
    "Initialization and login. This assumes you have a .openml dir in your homedir with a subdir for caches and a file with your API key. You find your API key in your account settings on openml.org."
   ]
  },
  {
   "cell_type": "code",
   "execution_count": 1,
   "metadata": {
    "collapsed": false,
    "scrolled": true
   },
   "outputs": [
    {
     "name": "stdout",
     "output_type": "stream",
     "text": [
      "backports.ssl-match-hostname==3.4.0.2\n",
      "bokeh==0.10.0\n",
      "climate==0.4.5\n",
      "decorator==4.0.4\n",
      "downhill==0.3.1\n",
      "Flask==0.10.1\n",
      "funcsigs==0.4\n",
      "ipykernel==4.1.1\n",
      "ipython==4.0.0\n",
      "ipython-genutils==0.1.0\n",
      "itsdangerous==0.24\n",
      "Jinja2==2.8\n",
      "jsonschema==2.4.0\n",
      "jupyter-client==4.1.1\n",
      "jupyter-core==4.0.6\n",
      "liac-arff==2.1.1.dev0\n",
      "MarkupSafe==0.23\n",
      "matplotlib==1.4.3\n",
      "mistune==0.7.1\n",
      "mock==1.3.0\n",
      "mpld3==0.2\n",
      "nbconvert==4.0.0\n",
      "nbformat==4.0.1\n",
      "neurolab==0.3.5\n",
      "nose==1.3.7\n",
      "notebook==4.0.6\n",
      "numexpr==2.4.4\n",
      "numpy==1.10.1\n",
      "openml==0.2.1\n",
      "openpyxl==1.8.6\n",
      "pandas==0.17.0\n",
      "path.py==0.0.0\n",
      "pbr==1.8.1\n",
      "pexpect==3.3\n",
      "pickleshare==0.5\n",
      "plac==0.9.1\n",
      "plotly==1.8.6\n",
      "ptyprocess==0.5\n",
      "PyBrain==0.3\n",
      "Pygments==2.0.2\n",
      "pyparsing==2.0.3\n",
      "python-dateutil==2.4.2\n",
      "pytz==2015.7\n",
      "PyYAML==3.11\n",
      "pyzmq==14.7.0\n",
      "rep==0.6.5\n",
      "requests==2.8.1\n",
      "root-numpy==4.3.0.dev0\n",
      "rootpy==0.8.0.dev0\n",
      "runipy==0.1.3\n",
      "scikit-learn==0.16.1\n",
      "scipy==0.16.0\n",
      "simplegeneric==0.8.1\n",
      "six==1.10.0\n",
      "tables==3.2.2\n",
      "terminado==0.5\n",
      "theanets==0.6.2\n",
      "Theano==0.7.0\n",
      "tornado==4.2.1\n",
      "traitlets==4.0.0\n",
      "Werkzeug==0.10.4\n",
      "wheel==0.26.0\n",
      "xgboost==0.4\n",
      "xmltodict==0.10.1\n",
      "\u001b[33mYou are using pip version 7.1.2, however version 8.1.1 is available.\n",
      "You should consider upgrading via the 'pip install --upgrade pip' command.\u001b[0m\n"
     ]
    }
   ],
   "source": [
    "!pip freeze"
   ]
  },
  {
   "cell_type": "code",
   "execution_count": 2,
   "metadata": {
    "collapsed": false
   },
   "outputs": [
    {
     "name": "stdout",
     "output_type": "stream",
     "text": [
      "/root/miniconda/envs/rep_py2/bin/pip\n"
     ]
    },
    {
     "name": "stderr",
     "output_type": "stream",
     "text": [
      "Python 2.7.10 :: Continuum Analytics, Inc.\n"
     ]
    }
   ],
   "source": [
    "%%bash\n",
    "\n",
    "python --version\n",
    "which pip"
   ]
  },
  {
   "cell_type": "code",
   "execution_count": 3,
   "metadata": {
    "collapsed": false
   },
   "outputs": [
    {
     "ename": "ImportError",
     "evalue": "No module named apiconnector",
     "output_type": "error",
     "traceback": [
      "\u001b[1;31m---------------------------------------------------------------------------\u001b[0m",
      "\u001b[1;31mImportError\u001b[0m                               Traceback (most recent call last)",
      "\u001b[1;32m<ipython-input-3-c0c4f1e3c8da>\u001b[0m in \u001b[0;36m<module>\u001b[1;34m()\u001b[0m\n\u001b[0;32m      1\u001b[0m \u001b[1;32mfrom\u001b[0m \u001b[0msklearn\u001b[0m \u001b[1;32mimport\u001b[0m \u001b[0mpreprocessing\u001b[0m\u001b[1;33m,\u001b[0m \u001b[0mensemble\u001b[0m\u001b[1;33m\u001b[0m\u001b[0m\n\u001b[1;32m----> 2\u001b[1;33m \u001b[1;32mfrom\u001b[0m \u001b[0mopenml\u001b[0m\u001b[1;33m.\u001b[0m\u001b[0mapiconnector\u001b[0m \u001b[1;32mimport\u001b[0m \u001b[0mAPIConnector\u001b[0m\u001b[1;33m\u001b[0m\u001b[0m\n\u001b[0m\u001b[0;32m      3\u001b[0m \u001b[1;32mimport\u001b[0m \u001b[0mnumpy\u001b[0m \u001b[1;32mas\u001b[0m \u001b[0mnp\u001b[0m\u001b[1;33m\u001b[0m\u001b[0m\n\u001b[0;32m      4\u001b[0m \u001b[1;32mimport\u001b[0m \u001b[0mpandas\u001b[0m \u001b[1;32mas\u001b[0m \u001b[0mpd\u001b[0m\u001b[1;33m\u001b[0m\u001b[0m\n\u001b[0;32m      5\u001b[0m \u001b[1;32mimport\u001b[0m \u001b[0mos\u001b[0m\u001b[1;33m\u001b[0m\u001b[0m\n",
      "\u001b[1;31mImportError\u001b[0m: No module named apiconnector"
     ]
    }
   ],
   "source": [
    "from sklearn import preprocessing, ensemble\n",
    "from openml.apiconnector import APIConnector\n",
    "import numpy as np\n",
    "import pandas as pd\n",
    "import os\n",
    "import openml\n",
    "import xmltodict\n",
    "from IPython.core.display import display, HTML\n",
    "\n",
    "\n",
    "openml_dir = os.path.join(os.path.expanduser(\"~\"), \".openml\")\n",
    "if not os.path.exists(openml_dir): os.makedirs(openml_dir)\n",
    "cache_dir = os.path.join(openml_dir, \"cache\")\n",
    "key = \"ef035bbd1ca47af239c384aea9124ec5\""
   ]
  },
  {
   "cell_type": "code",
   "execution_count": 4,
   "metadata": {
    "cellView": null,
    "collapsed": false,
    "executionInfo": {
     "content": {
      "execution_count": 1,
      "payload": [],
      "status": "ok",
      "user_expressions": {},
      "user_variables": {}
     },
     "timestamp": 1455756578370,
     "user": {
      "color": "#1FA15D",
      "displayName": "Joaquin Vanschoren",
      "isAnonymous": false,
      "isMe": true,
      "permissionId": "09574386662628411592",
      "photoUrl": "//lh6.googleusercontent.com/-9g2BD5NUkx4/AAAAAAAAAAI/AAAAAAAACC4/sACE-8zBzX4/s50-c-k-no/photo.jpg",
      "sessionId": "705fdb90ea984ffb",
      "userId": "109221074076178034989"
     },
     "user_tz": -60
    }
   },
   "outputs": [
    {
     "ename": "NameError",
     "evalue": "name 'APIConnector' is not defined",
     "output_type": "error",
     "traceback": [
      "\u001b[1;31m---------------------------------------------------------------------------\u001b[0m",
      "\u001b[1;31mNameError\u001b[0m                                 Traceback (most recent call last)",
      "\u001b[1;32m<ipython-input-4-99cb817149a5>\u001b[0m in \u001b[0;36m<module>\u001b[1;34m()\u001b[0m\n\u001b[1;32m----> 1\u001b[1;33m \u001b[0mcon\u001b[0m \u001b[1;33m=\u001b[0m \u001b[0mAPIConnector\u001b[0m\u001b[1;33m(\u001b[0m\u001b[0mcache_directory\u001b[0m\u001b[1;33m=\u001b[0m\u001b[0mcache_dir\u001b[0m\u001b[1;33m,\u001b[0m \u001b[0mapikey\u001b[0m\u001b[1;33m=\u001b[0m\u001b[0mkey\u001b[0m\u001b[1;33m)\u001b[0m\u001b[1;33m\u001b[0m\u001b[0m\n\u001b[0m",
      "\u001b[1;31mNameError\u001b[0m: name 'APIConnector' is not defined"
     ]
    }
   ],
   "source": [
    "con = APIConnector(cache_directory=cache_dir, apikey=key)"
   ]
  },
  {
   "cell_type": "code",
   "execution_count": 9,
   "metadata": {
    "collapsed": false
   },
   "outputs": [
    {
     "ename": "ImportError",
     "evalue": "No module named apiconnector",
     "output_type": "error",
     "traceback": [
      "\u001b[1;31m---------------------------------------------------------------------------\u001b[0m",
      "\u001b[1;31mImportError\u001b[0m                               Traceback (most recent call last)",
      "\u001b[1;32m<ipython-input-9-e24cb27eb64b>\u001b[0m in \u001b[0;36m<module>\u001b[1;34m()\u001b[0m\n\u001b[0;32m      1\u001b[0m \u001b[1;32mfrom\u001b[0m \u001b[0msklearn\u001b[0m \u001b[1;32mimport\u001b[0m \u001b[0mpreprocessing\u001b[0m\u001b[1;33m,\u001b[0m \u001b[0mensemble\u001b[0m\u001b[1;33m\u001b[0m\u001b[0m\n\u001b[1;32m----> 2\u001b[1;33m \u001b[1;32mfrom\u001b[0m \u001b[0mopenml\u001b[0m\u001b[1;33m.\u001b[0m\u001b[0mapiconnector\u001b[0m \u001b[1;32mimport\u001b[0m \u001b[0mAPIConnector\u001b[0m\u001b[1;33m\u001b[0m\u001b[0m\n\u001b[0m\u001b[0;32m      3\u001b[0m \u001b[1;32mimport\u001b[0m \u001b[0mopenml\u001b[0m\u001b[1;33m\u001b[0m\u001b[0m\n\u001b[0;32m      4\u001b[0m \u001b[1;32mimport\u001b[0m \u001b[0mnumpy\u001b[0m \u001b[1;32mas\u001b[0m \u001b[0mnp\u001b[0m\u001b[1;33m\u001b[0m\u001b[0m\n\u001b[0;32m      5\u001b[0m \u001b[1;32mimport\u001b[0m \u001b[0mpandas\u001b[0m \u001b[1;32mas\u001b[0m \u001b[0mpd\u001b[0m\u001b[1;33m\u001b[0m\u001b[0m\n",
      "\u001b[1;31mImportError\u001b[0m: No module named apiconnector"
     ]
    }
   ],
   "source": [
    "from sklearn import preprocessing, ensemble\n",
    "from openml.apiconnector import APIConnector\n",
    "import openml\n",
    "import numpy as np\n",
    "import pandas as pd\n",
    "import os"
   ]
  },
  {
   "cell_type": "markdown",
   "metadata": {},
   "source": [
    "List all datasets on OpenML"
   ]
  },
  {
   "cell_type": "code",
   "execution_count": 14,
   "metadata": {
    "cellView": null,
    "collapsed": false,
    "executionInfo": {
     "content": {
      "execution_count": 43,
      "payload": [],
      "status": "ok",
      "user_expressions": {},
      "user_variables": {}
     },
     "timestamp": 1455749142183,
     "user": {
      "color": "#1FA15D",
      "displayName": "Joaquin Vanschoren",
      "isAnonymous": false,
      "isMe": true,
      "permissionId": "09574386662628411592",
      "photoUrl": "//lh6.googleusercontent.com/-9g2BD5NUkx4/AAAAAAAAAAI/AAAAAAAACC4/sACE-8zBzX4/s50-c-k-no/photo.jpg",
      "sessionId": "4c10e6f89dcd9d83",
      "userId": "109221074076178034989"
     },
     "user_tz": -60
    }
   },
   "outputs": [
    {
     "ename": "AttributeError",
     "evalue": "'module' object has no attribute 'get_dataset_list'",
     "output_type": "error",
     "traceback": [
      "\u001b[1;31m---------------------------------------------------------------------------\u001b[0m",
      "\u001b[1;31mAttributeError\u001b[0m                            Traceback (most recent call last)",
      "\u001b[1;32m<ipython-input-14-ab0933ac7287>\u001b[0m in \u001b[0;36m<module>\u001b[1;34m()\u001b[0m\n\u001b[1;32m----> 1\u001b[1;33m \u001b[0mdatasets\u001b[0m \u001b[1;33m=\u001b[0m \u001b[0mopenml\u001b[0m\u001b[1;33m.\u001b[0m\u001b[0mdatasets\u001b[0m\u001b[1;33m.\u001b[0m\u001b[0mget_dataset_list\u001b[0m\u001b[1;33m(\u001b[0m\u001b[0mcon\u001b[0m\u001b[1;33m)\u001b[0m\u001b[1;33m\u001b[0m\u001b[0m\n\u001b[0m\u001b[0;32m      2\u001b[0m \u001b[1;33m\u001b[0m\u001b[0m\n\u001b[0;32m      3\u001b[0m \u001b[0mdatasets_df\u001b[0m \u001b[1;33m=\u001b[0m \u001b[0mpd\u001b[0m\u001b[1;33m.\u001b[0m\u001b[0mDataFrame\u001b[0m\u001b[1;33m(\u001b[0m\u001b[0mdatasets\u001b[0m\u001b[1;33m)\u001b[0m\u001b[1;33m\u001b[0m\u001b[0m\n\u001b[0;32m      4\u001b[0m \u001b[0mdatasets_df\u001b[0m\u001b[1;33m.\u001b[0m\u001b[0mhead\u001b[0m\u001b[1;33m(\u001b[0m\u001b[1;33m)\u001b[0m\u001b[1;33m\u001b[0m\u001b[0m\n",
      "\u001b[1;31mAttributeError\u001b[0m: 'module' object has no attribute 'get_dataset_list'"
     ]
    }
   ],
   "source": [
    "datasets = openml.datasets.get_dataset_list(con)\n",
    "\n",
    "datasets_df = pd.DataFrame(datasets)\n",
    "datasets_df.head()\n"
   ]
  },
  {
   "cell_type": "markdown",
   "metadata": {},
   "source": [
    "Download a specific dataset. This is done based on the dataset ID (called 'did' in the table above)."
   ]
  },
  {
   "cell_type": "code",
   "execution_count": null,
   "metadata": {
    "collapsed": false
   },
   "outputs": [],
   "source": [
    "from pprint import pprint\n",
    "import arff\n",
    "\n",
    "N = 61\n",
    "print(\"Downloading dataset %d.\" % N)\n",
    "dataset = openml.datasets.download_dataset(con, N)\n",
    "\n",
    "print(\"This is dataset '%s', the target feature is called '%s'\" % (dataset.name, dataset.default_target_attribute))\n",
    "print(\"More info, including the location off the .arff file on disk:\")\n",
    "pprint(vars(dataset))\n"
   ]
  },
  {
   "cell_type": "code",
   "execution_count": null,
   "metadata": {
    "collapsed": false
   },
   "outputs": [],
   "source": [
    "X, y = dataset.get_dataset(target=dataset.default_target_attribute)"
   ]
  },
  {
   "cell_type": "code",
   "execution_count": null,
   "metadata": {
    "collapsed": false
   },
   "outputs": [],
   "source": [
    "features = openml.datasets.download_dataset_features(con, N)"
   ]
  },
  {
   "cell_type": "code",
   "execution_count": null,
   "metadata": {
    "collapsed": false
   },
   "outputs": [],
   "source": [
    "features"
   ]
  },
  {
   "cell_type": "code",
   "execution_count": null,
   "metadata": {
    "cellView": null,
    "collapsed": false,
    "executionInfo": {
     "content": {
      "execution_count": 83,
      "payload": [],
      "status": "ok",
      "user_expressions": {},
      "user_variables": {}
     },
     "timestamp": 1455753527460,
     "user": {
      "color": "#1FA15D",
      "displayName": "Joaquin Vanschoren",
      "isAnonymous": false,
      "isMe": true,
      "permissionId": "09574386662628411592",
      "photoUrl": "//lh6.googleusercontent.com/-9g2BD5NUkx4/AAAAAAAAAAI/AAAAAAAACC4/sACE-8zBzX4/s50-c-k-no/photo.jpg",
      "sessionId": "4868f0f035c55454",
      "userId": "109221074076178034989"
     },
     "user_tz": -60
    }
   },
   "outputs": [],
   "source": [
    "iris = pd.DataFrame(X)\n",
    "iris['class'] = y\n",
    "print(iris[:10])"
   ]
  },
  {
   "cell_type": "markdown",
   "metadata": {},
   "source": [
    "Training a scikit-learn model with the data"
   ]
  },
  {
   "cell_type": "code",
   "execution_count": null,
   "metadata": {
    "cellView": null,
    "collapsed": false,
    "executionInfo": {
     "content": {
      "execution_count": 78,
      "payload": [],
      "status": "ok",
      "user_expressions": {},
      "user_variables": {}
     },
     "timestamp": 1455752875510,
     "user": {
      "color": "#1FA15D",
      "displayName": "Joaquin Vanschoren",
      "isAnonymous": false,
      "isMe": true,
      "permissionId": "09574386662628411592",
      "photoUrl": "//lh6.googleusercontent.com/-9g2BD5NUkx4/AAAAAAAAAAI/AAAAAAAACC4/sACE-8zBzX4/s50-c-k-no/photo.jpg",
      "sessionId": "4868f0f035c55454",
      "userId": "109221074076178034989"
     },
     "user_tz": -60
    }
   },
   "outputs": [],
   "source": [
    "clf = ensemble.RandomForestClassifier()\n",
    "clf.fit(X, y)"
   ]
  },
  {
   "cell_type": "markdown",
   "metadata": {},
   "source": [
    "You can also ask with features are categorical to do your own encoding "
   ]
  },
  {
   "cell_type": "code",
   "execution_count": null,
   "metadata": {
    "collapsed": false
   },
   "outputs": [],
   "source": [
    "task_list = openml.tasks.get_task_list(con)"
   ]
  },
  {
   "cell_type": "code",
   "execution_count": null,
   "metadata": {
    "collapsed": false
   },
   "outputs": [],
   "source": [
    "print(task_list[0], len(task_list))"
   ]
  },
  {
   "cell_type": "code",
   "execution_count": null,
   "metadata": {
    "cellView": null,
    "collapsed": false,
    "executionInfo": {
     "content": {
      "execution_count": 2,
      "payload": [],
      "status": "ok",
      "user_expressions": {},
      "user_variables": {}
     },
     "timestamp": 1455756616694,
     "user": {
      "color": "#1FA15D",
      "displayName": "Joaquin Vanschoren",
      "isAnonymous": false,
      "isMe": true,
      "permissionId": "09574386662628411592",
      "photoUrl": "//lh6.googleusercontent.com/-9g2BD5NUkx4/AAAAAAAAAAI/AAAAAAAACC4/sACE-8zBzX4/s50-c-k-no/photo.jpg",
      "sessionId": "705fdb90ea984ffb",
      "userId": "109221074076178034989"
     },
     "user_tz": -60
    }
   },
   "outputs": [],
   "source": [
    "tasks = pd.DataFrame(task_list)\n",
    "tasks[['tid','did','task_type','NumberOfInstances','NumberOfFeatures','NumberOfClasses']].head(11)"
   ]
  },
  {
   "cell_type": "markdown",
   "metadata": {},
   "source": [
    "Download a single OpenML task (id=10), create a scikit-learn classifier (RandomForest), and run it on the task"
   ]
  },
  {
   "cell_type": "code",
   "execution_count": null,
   "metadata": {
    "collapsed": false
   },
   "outputs": [],
   "source": [
    "T = 10107\n",
    "task = openml.tasks.download_task(con, T)\n",
    "print(task)\n",
    "\n",
    "clf = ensemble.RandomForestClassifier()"
   ]
  },
  {
   "cell_type": "code",
   "execution_count": null,
   "metadata": {
    "collapsed": false
   },
   "outputs": [],
   "source": [
    "run = openml.runs.openml_run(con, task, clf)\n",
    "print(\"RandomForest has run on the task.\")"
   ]
  },
  {
   "cell_type": "markdown",
   "metadata": {},
   "source": [
    "Upload the run to the OpenML server"
   ]
  },
  {
   "cell_type": "code",
   "execution_count": null,
   "metadata": {
    "collapsed": false
   },
   "outputs": [],
   "source": [
    "return_code, response = run.publish(con)"
   ]
  },
  {
   "cell_type": "code",
   "execution_count": null,
   "metadata": {
    "collapsed": false
   },
   "outputs": [],
   "source": [
    "if(return_code == 200):\n",
    "    response_dict = xmltodict.parse(response)\n",
    "    run_id = response_dict['oml:upload_run']['oml:run_id']\n",
    "    print(\"Uploaded run with id %s\" % (run_id))\n",
    "    display(HTML(\"<a href='http://www.openml.org/r/{0}' target=_blank>http://www.openml.org/r/{0}</a>\".format(run_id)))\n"
   ]
  },
  {
   "cell_type": "code",
   "execution_count": null,
   "metadata": {
    "collapsed": true
   },
   "outputs": [],
   "source": []
  }
 ],
 "metadata": {
  "colabVersion": "0.1",
  "kernelspec": {
   "display_name": "Python 2",
   "language": "python",
   "name": "python2"
  },
  "language_info": {
   "codemirror_mode": {
    "name": "ipython",
    "version": 2
   },
   "file_extension": ".py",
   "mimetype": "text/x-python",
   "name": "python",
   "nbconvert_exporter": "python",
   "pygments_lexer": "ipython2",
   "version": "2.7.10"
  }
 },
 "nbformat": 4,
 "nbformat_minor": 0
}
